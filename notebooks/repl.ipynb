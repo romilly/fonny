{
 "cells": [
  {
   "cell_type": "code",
   "id": "c09c835666b1cc44",
   "metadata": {
    "ExecuteTime": {
     "end_time": "2025-03-22T08:59:08.893790Z",
     "start_time": "2025-03-22T08:59:08.885017Z"
    }
   },
   "source": [
    "import serial\n",
    "import time\n",
    "\n",
    "def setup_serial_connection(port='/dev/ttyACM0',\n",
    "                            baud_rate=115200,\n",
    "                            timeout=1):\n",
    "    \"\"\"Set up the serial connection.\"\"\"\n",
    "    try:\n",
    "        ser = serial.Serial(\n",
    "            port=port,\n",
    "            baudrate=baud_rate,\n",
    "            timeout=timeout\n",
    "        )\n",
    "        print(f\"Connected to {port} at {baud_rate} baud\")\n",
    "        return ser\n",
    "    except serial.SerialException as e:\n",
    "        print(f\"Error opening serial port: {e}\")\n",
    "        return None\n",
    "\n",
    "def interactive_serial_session(ser):\n",
    "    \"\"\"Run an interactive session where you can type and receive responses.\"\"\"\n",
    "    print(\"Interactive serial session started. Type 'exit' to quit.\")\n",
    "\n",
    "    try:\n",
    "        while True:\n",
    "            # Get user input\n",
    "            user_input = input(\"> \")\n",
    "\n",
    "            # Check if user wants to exit\n",
    "            if user_input.lower() == 'exit':\n",
    "                break\n",
    "\n",
    "            # Add newline if needed\n",
    "            if not user_input.endswith('\\n'):\n",
    "                user_input += '\\n'\n",
    "\n",
    "            # Send the data\n",
    "            ser.write(user_input.encode())\n",
    "\n",
    "            # Wait a bit for the device to respond\n",
    "            time.sleep(0.2)\n",
    "\n",
    "            # Read response\n",
    "            while ser.in_waiting:\n",
    "                response = ser.readline().decode('utf-8', errors='replace').strip()\n",
    "                print(f\"Received: {response}\")\n",
    "\n",
    "    except KeyboardInterrupt:\n",
    "        print(\"\\nSession terminated by user\")\n",
    "    except Exception as e:\n",
    "        print(f\"Error during session: {e}\")\n",
    "    finally:\n",
    "        if ser.is_open:\n",
    "            ser.close()\n",
    "            print(\"Serial connection closed\")"
   ],
   "outputs": [],
   "execution_count": 1
  },
  {
   "metadata": {
    "ExecuteTime": {
     "end_time": "2025-03-22T08:59:12.107810Z",
     "start_time": "2025-03-22T08:59:12.004899Z"
    }
   },
   "cell_type": "code",
   "source": "ser = setup_serial_connection()",
   "id": "51496afb6f8a8c76",
   "outputs": [
    {
     "name": "stdout",
     "output_type": "stream",
     "text": [
      "Connected to /dev/ttyACM0 at 115200 baud\n"
     ]
    }
   ],
   "execution_count": 2
  },
  {
   "metadata": {
    "collapsed": true,
    "ExecuteTime": {
     "end_time": "2025-03-22T08:59:42.436102Z",
     "start_time": "2025-03-22T08:59:16.165905Z"
    }
   },
   "cell_type": "code",
   "source": "interactive_serial_session(ser)",
   "id": "initial_id",
   "outputs": [
    {
     "name": "stdout",
     "output_type": "stream",
     "text": [
      "Interactive serial session started. Type 'exit' to quit.\n",
      "Received: \n",
      "Received: Welcome to zeptoforth\n",
      "Received: Built for rp2040, version 1.10.0.1, on Sun Feb 9 04:25:17 PM CST 2025\n",
      "Received: zeptoforth comes with ABSOLUTELY NO WARRANTY: for details type `license'\n",
      "Received: ok\n",
      "Received: \u00062 2 + . 4  ok\n",
      "Received: \u0006\n",
      "Serial connection closed\n"
     ]
    }
   ],
   "execution_count": 3
  }
 ],
 "metadata": {
  "kernelspec": {
   "display_name": "Python 3",
   "language": "python",
   "name": "python3"
  },
  "language_info": {
   "codemirror_mode": {
    "name": "ipython",
    "version": 2
   },
   "file_extension": ".py",
   "mimetype": "text/x-python",
   "name": "python",
   "nbconvert_exporter": "python",
   "pygments_lexer": "ipython2",
   "version": "2.7.6"
  }
 },
 "nbformat": 4,
 "nbformat_minor": 5
}
